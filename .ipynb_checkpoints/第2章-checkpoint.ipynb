{
 "cells": [
  {
   "cell_type": "markdown",
   "metadata": {},
   "source": [
    "# 第2章: UNIXコマンドの基礎\n",
    "hightemp.txtは，日本の最高気温の記録を「都道府県」「地点」「℃」「日」のタブ区切り形式で格納したファイルである．以下の処理を行うプログラムを作成し，hightemp.txtを入力ファイルとして実行せよ．さらに，同様の処理をUNIXコマンドでも実行し，プログラムの実行結果を確認せよ．"
   ]
  },
  {
   "cell_type": "markdown",
   "metadata": {},
   "source": [
    "## 10. 行数のカウント\n",
    "行数をカウントせよ．確認にはwcコマンドを用いよ．"
   ]
  },
  {
   "cell_type": "code",
   "execution_count": 16,
   "metadata": {},
   "outputs": [
    {
     "name": "stdout",
     "output_type": "stream",
     "text": [
      "24\n"
     ]
    }
   ],
   "source": [
    "cnt = sum([1 for i in open('hightemp.txt','r')])\n",
    "print(cnt)"
   ]
  },
  {
   "cell_type": "markdown",
   "metadata": {},
   "source": [
    "```bash\n",
    "$ wc -l hightemp.txt\n",
    "      24 hightemp.txt\n",
    "```"
   ]
  },
  {
   "cell_type": "markdown",
   "metadata": {},
   "source": [
    "## 11. タブをスペースに置換\n",
    "タブ1文字につきスペース1文字に置換せよ．確認にはsedコマンド，trコマンド，もしくはexpandコマンドを用いよ．"
   ]
  },
  {
   "cell_type": "code",
   "execution_count": 17,
   "metadata": {},
   "outputs": [
    {
     "name": "stdout",
     "output_type": "stream",
     "text": [
      "高知県　江川崎　41　2013-08-12\n",
      "埼玉県　熊谷　40.9　2007-08-16\n",
      "岐阜県　多治見　40.9　2007-08-16\n",
      "山形県　山形　40.8　1933-07-25\n",
      "山梨県　甲府　40.7　2013-08-10\n",
      "和歌山県　かつらぎ　40.6　1994-08-08\n",
      "静岡県　天竜　40.6　1994-08-04\n",
      "山梨県　勝沼　40.5　2013-08-10\n",
      "埼玉県　越谷　40.4　2007-08-16\n",
      "群馬県　館林　40.3　2007-08-16\n",
      "群馬県　上里見　40.3　1998-07-04\n",
      "愛知県　愛西　40.3　1994-08-05\n",
      "千葉県　牛久　40.2　2004-07-20\n",
      "静岡県　佐久間　40.2　2001-07-24\n",
      "愛媛県　宇和島　40.2　1927-07-22\n",
      "山形県　酒田　40.1　1978-08-03\n",
      "岐阜県　美濃　40　2007-08-16\n",
      "群馬県　前橋　40　2001-07-24\n",
      "千葉県　茂原　39.9　2013-08-11\n",
      "埼玉県　鳩山　39.9　1997-07-05\n",
      "大阪府　豊中　39.9　1994-08-08\n",
      "山梨県　大月　39.9　1990-07-19\n",
      "山形県　鶴岡　39.9　1978-08-03\n",
      "愛知県　名古屋　39.9　1942-08-02\n",
      "\n"
     ]
    }
   ],
   "source": [
    "with open('hightemp.txt') as f:\n",
    "    t = f.read().replace('\\t','　')\n",
    "    print(t)"
   ]
  },
  {
   "cell_type": "markdown",
   "metadata": {},
   "source": [
    "unixのsedタブ変換しんどい...\n",
    "[参考](http://mattintosh.hatenablog.com/entry/2013/01/16/143323)\n",
    "\n",
    "```bash\n",
    "$ sed s/\"`printf '\\t'`\"/\\ /g hightemp.txt\n",
    "$ tr '\\t' ' ' < hightemp.txt\n",
    "$ expand -t 1 highttemp.txt\n",
    "高知県 江川崎 41 2013-08-12\n",
    "埼玉県 熊谷 40.9 2007-08-16\n",
    "岐阜県 多治見 40.9 2007-08-16\n",
    "山形県 山形 40.8 1933-07-25\n",
    "山梨県 甲府 40.7 2013-08-10\n",
    "和歌山県 かつらぎ 40.6 1994-08-08\n",
    "静岡県 天竜 40.6 1994-08-04\n",
    "山梨県 勝沼 40.5 2013-08-10\n",
    "埼玉県 越谷 40.4 2007-08-16\n",
    "群馬県 館林 40.3 2007-08-16\n",
    "群馬県 上里見 40.3 1998-07-04\n",
    "愛知県 愛西 40.3 1994-08-05\n",
    "千葉県 牛久 40.2 2004-07-20\n",
    "静岡県 佐久間 40.2 2001-07-24\n",
    "愛媛県 宇和島 40.2 1927-07-22\n",
    "山形県 酒田 40.1 1978-08-03\n",
    "岐阜県 美濃 40 2007-08-16\n",
    "群馬県 前橋 40 2001-07-24\n",
    "千葉県 茂原 39.9 2013-08-11\n",
    "埼玉県 鳩山 39.9 1997-07-05\n",
    "大阪府 豊中 39.9 1994-08-08\n",
    "山梨県 大月 39.9 1990-07-19\n",
    "山形県 鶴岡 39.9 1978-08-03\n",
    "愛知県 名古屋 39.9 1942-08-02\n",
    "```\n"
   ]
  },
  {
   "cell_type": "markdown",
   "metadata": {},
   "source": [
    "## 12. 1列目をcol1.txtに，2列目をcol2.txtに保存\n",
    "各行の1列目だけを抜き出したものをcol1.txtに，2列目だけを抜き出したものをcol2.txtとしてファイルに保存せよ．確認にはcutコマンドを用いよ．"
   ]
  },
  {
   "cell_type": "code",
   "execution_count": 25,
   "metadata": {},
   "outputs": [],
   "source": [
    "def write(txt, file):\n",
    "    with open(file, mode='a') as f:\n",
    "        f.write(txt + '\\n')\n",
    "\n",
    "with open('hightemp.txt') as f:\n",
    "    for l in f:\n",
    "        write(l.split()[0],'col1.txt')\n",
    "        write(l.split()[1],'col2.txt')"
   ]
  },
  {
   "cell_type": "markdown",
   "metadata": {},
   "source": [
    "```bash\n",
    "$ cut -f 1 -d \"`printf '\\t'`\" hightemp.txt >col1.txt\n",
    "$ cut -f 2 -d \"`printf '\\t'`\" hightemp.txt >col2.txt\n",
    "```"
   ]
  },
  {
   "cell_type": "markdown",
   "metadata": {},
   "source": [
    "## 13. col1.txtとcol2.txtをマージ\n",
    "12で作ったcol1.txtとcol2.txtを結合し，元のファイルの1列目と2列目をタブ区切りで並べたテキストファイルを作成せよ．確認にはpasteコマンドを用いよ．"
   ]
  },
  {
   "cell_type": "code",
   "execution_count": 30,
   "metadata": {},
   "outputs": [],
   "source": [
    "def write(txt, file):\n",
    "    with open(file, mode='a') as f:\n",
    "        f.write(txt + '\\n')\n",
    "\n",
    "with open('col1.txt') as col1:\n",
    "    list1 = col1.readlines()\n",
    "\n",
    "with open('col2.txt') as col2:\n",
    "    list2 = col2.readlines()\n",
    "\n",
    "for (c1, c2) in zip(list1, list2):\n",
    "    write('\\t'.join([c1.replace('\\n',''), c2.replace('\\n','')]),'col3.txt')"
   ]
  },
  {
   "cell_type": "markdown",
   "metadata": {},
   "source": [
    "```bash\n",
    "$ paste col1.txt col2.txt >col3.txt\n",
    "```"
   ]
  },
  {
   "cell_type": "markdown",
   "metadata": {},
   "source": [
    "## 14. 先頭からN行を出力\n",
    "自然数Nをコマンドライン引数などの手段で受け取り，入力のうち先頭のN行だけを表示せよ．確認にはheadコマンドを用いよ．"
   ]
  },
  {
   "cell_type": "code",
   "execution_count": 3,
   "metadata": {},
   "outputs": [
    {
     "name": "stdout",
     "output_type": "stream",
     "text": [
      "10\n",
      "高知県\t江川崎\t41\t2013-08-12\n",
      "埼玉県\t熊谷\t40.9\t2007-08-16\n",
      "岐阜県\t多治見\t40.9\t2007-08-16\n",
      "山形県\t山形\t40.8\t1933-07-25\n",
      "山梨県\t甲府\t40.7\t2013-08-10\n",
      "和歌山県\tかつらぎ\t40.6\t1994-08-08\n",
      "静岡県\t天竜\t40.6\t1994-08-04\n",
      "山梨県\t勝沼\t40.5\t2013-08-10\n",
      "埼玉県\t越谷\t40.4\t2007-08-16\n",
      "群馬県\t館林\t40.3\t2007-08-16\n"
     ]
    }
   ],
   "source": [
    "N = int(input())\n",
    "\n",
    "with open('hightemp.txt') as f:\n",
    "    for i, l in enumerate(f):\n",
    "        if i >= N:\n",
    "            break\n",
    "        print(l, end='')"
   ]
  },
  {
   "cell_type": "markdown",
   "metadata": {},
   "source": [
    "```bash\n",
    "$ head -n10 hightemp.txt\n",
    "```"
   ]
  },
  {
   "cell_type": "markdown",
   "metadata": {},
   "source": [
    "## 15. 末尾のN行を出力\n",
    "自然数Nをコマンドライン引数などの手段で受け取り，入力のうち末尾のN行だけを表示せよ．確認にはtailコマンドを用いよ．"
   ]
  },
  {
   "cell_type": "code",
   "execution_count": 5,
   "metadata": {},
   "outputs": [
    {
     "name": "stdout",
     "output_type": "stream",
     "text": [
      "10\n",
      "愛媛県\t宇和島\t40.2\t1927-07-22\n",
      "山形県\t酒田\t40.1\t1978-08-03\n",
      "岐阜県\t美濃\t40\t2007-08-16\n",
      "群馬県\t前橋\t40\t2001-07-24\n",
      "千葉県\t茂原\t39.9\t2013-08-11\n",
      "埼玉県\t鳩山\t39.9\t1997-07-05\n",
      "大阪府\t豊中\t39.9\t1994-08-08\n",
      "山梨県\t大月\t39.9\t1990-07-19\n",
      "山形県\t鶴岡\t39.9\t1978-08-03\n",
      "愛知県\t名古屋\t39.9\t1942-08-02\n"
     ]
    }
   ],
   "source": [
    "N = int(input())\n",
    "\n",
    "row = sum([1 for i in open('hightemp.txt', 'r')])\n",
    "\n",
    "if N > row:\n",
    "    raise ValueError(\"input number must be smaller than \" + str(row))\n",
    "\n",
    "with open('hightemp.txt') as f:\n",
    "    for i, l in enumerate(f):\n",
    "        if i >= row - N:\n",
    "            print(l, end='')"
   ]
  },
  {
   "cell_type": "markdown",
   "metadata": {},
   "source": [
    "```bash\n",
    "$ tail -n10 hightemp.txt\n",
    "```"
   ]
  },
  {
   "cell_type": "markdown",
   "metadata": {},
   "source": [
    "## 16. ファイルをN分割する\n",
    "自然数Nをコマンドライン引数などの手段で受け取り，入力のファイルを行単位でN分割せよ．同様の処理をsplitコマンドで実現せよ．"
   ]
  },
  {
   "cell_type": "code",
   "execution_count": 12,
   "metadata": {},
   "outputs": [
    {
     "name": "stdout",
     "output_type": "stream",
     "text": [
      "10\n",
      "高知県\t江川崎\t41\t2013-08-12\n",
      "埼玉県\t熊谷\t40.9\t2007-08-16\n",
      "岐阜県\t多治見\t40.9\t2007-08-16\n",
      "\n",
      "山形県\t山形\t40.8\t1933-07-25\n",
      "山梨県\t甲府\t40.7\t2013-08-10\n",
      "\n",
      "和歌山県\tかつらぎ\t40.6\t1994-08-08\n",
      "静岡県\t天竜\t40.6\t1994-08-04\n",
      "山梨県\t勝沼\t40.5\t2013-08-10\n",
      "\n",
      "埼玉県\t越谷\t40.4\t2007-08-16\n",
      "群馬県\t館林\t40.3\t2007-08-16\n",
      "\n",
      "群馬県\t上里見\t40.3\t1998-07-04\n",
      "愛知県\t愛西\t40.3\t1994-08-05\n",
      "\n",
      "千葉県\t牛久\t40.2\t2004-07-20\n",
      "静岡県\t佐久間\t40.2\t2001-07-24\n",
      "愛媛県\t宇和島\t40.2\t1927-07-22\n",
      "\n",
      "山形県\t酒田\t40.1\t1978-08-03\n",
      "岐阜県\t美濃\t40\t2007-08-16\n",
      "\n",
      "群馬県\t前橋\t40\t2001-07-24\n",
      "千葉県\t茂原\t39.9\t2013-08-11\n",
      "埼玉県\t鳩山\t39.9\t1997-07-05\n",
      "\n",
      "大阪府\t豊中\t39.9\t1994-08-08\n",
      "山梨県\t大月\t39.9\t1990-07-19\n",
      "\n",
      "山形県\t鶴岡\t39.9\t1978-08-03\n",
      "愛知県\t名古屋\t39.9\t1942-08-02\n"
     ]
    }
   ],
   "source": [
    "N = int(input())\n",
    "\n",
    "row = sum([1 for x in open('hightemp.txt')])/N\n",
    "\n",
    "with open('hightemp.txt') as f:\n",
    "    prev = 0\n",
    "    for i, l in enumerate(f):\n",
    "        if int(i / row) != prev:\n",
    "            if i / row < N:\n",
    "                print()\n",
    "            prev = int(i / row)\n",
    "        print(l, end='')"
   ]
  },
  {
   "cell_type": "markdown",
   "metadata": {},
   "source": [
    "```bash\n",
    "$ split -n l/1/10 hightemp.txt\n",
    "```\n",
    "\n",
    "OSXの場合は `brew install coreutils` して `gsplit`"
   ]
  },
  {
   "cell_type": "markdown",
   "metadata": {},
   "source": [
    "## 17. １列目の文字列の異なり\n",
    "1列目の文字列の種類（異なる文字列の集合）を求めよ．確認にはsort, uniqコマンドを用いよ．"
   ]
  },
  {
   "cell_type": "code",
   "execution_count": 21,
   "metadata": {},
   "outputs": [
    {
     "name": "stdout",
     "output_type": "stream",
     "text": [
      "{'埼玉県', '山梨県', '千葉県', '愛媛県', '群馬県', '山形県', '大阪府', '高知県', '和歌山県', '愛知県', '静岡県', '岐阜県'}\n"
     ]
    }
   ],
   "source": [
    "s = set()\n",
    "\n",
    "with open('hightemp.txt','r') as f:\n",
    "    for l in f:\n",
    "        s.add(l.split()[0])\n",
    "print(s)"
   ]
  },
  {
   "cell_type": "markdown",
   "metadata": {},
   "source": [
    "```bash\n",
    "$ cut -f 1 -d \\t hightemp.txt | sort | uniq\n",
    "```"
   ]
  },
  {
   "cell_type": "markdown",
   "metadata": {},
   "source": [
    "## 18. 各行を3コラム目の数値の降順にソート\n",
    "各行を3コラム目の数値の逆順で整列せよ（注意: 各行の内容は変更せずに並び替えよ）．確認にはsortコマンドを用いよ（この問題はコマンドで実行した時の結果と合わなくてもよい）．"
   ]
  },
  {
   "cell_type": "code",
   "execution_count": 20,
   "metadata": {},
   "outputs": [
    {
     "name": "stdout",
     "output_type": "stream",
     "text": [
      "千葉県\t茂原\t39.9\t2013-08-11\n",
      "埼玉県\t鳩山\t39.9\t1997-07-05\n",
      "大阪府\t豊中\t39.9\t1994-08-08\n",
      "山形県\t鶴岡\t39.9\t1978-08-03\n",
      "山梨県\t大月\t39.9\t1990-07-19\n",
      "愛知県\t名古屋\t39.9\t1942-08-02\n",
      "岐阜県\t美濃\t40\t2007-08-16\n",
      "群馬県\t前橋\t40\t2001-07-24\n",
      "山形県\t酒田\t40.1\t1978-08-03\n",
      "千葉県\t牛久\t40.2\t2004-07-20\n",
      "愛媛県\t宇和島\t40.2\t1927-07-22\n",
      "静岡県\t佐久間\t40.2\t2001-07-24\n",
      "愛知県\t愛西\t40.3\t1994-08-05\n",
      "群馬県\t上里見\t40.3\t1998-07-04\n",
      "群馬県\t館林\t40.3\t2007-08-16\n",
      "埼玉県\t越谷\t40.4\t2007-08-16\n",
      "山梨県\t勝沼\t40.5\t2013-08-10\n",
      "和歌山県\tかつらぎ\t40.6\t1994-08-08\n",
      "静岡県\t天竜\t40.6\t1994-08-04\n",
      "山梨県\t甲府\t40.7\t2013-08-10\n",
      "山形県\t山形\t40.8\t1933-07-25\n",
      "埼玉県\t熊谷\t40.9\t2007-08-16\n",
      "岐阜県\t多治見\t40.9\t2007-08-16\n",
      "高知県\t江川崎\t41\t2013-08-12\n"
     ]
    }
   ],
   "source": [
    "rows = []\n",
    "temp = []\n",
    "\n",
    "with open('hightemp.txt', 'r') as f:\n",
    "    for l in f:\n",
    "        d = l.replace('\\n','')\n",
    "        rows.append(d)\n",
    "        temp.append(float(d.split()[2]))\n",
    "\n",
    "tr = zip(temp, rows)\n",
    "tr = sorted(tr)\n",
    "temp, rows = zip(*tr)\n",
    "\n",
    "for row in rows:\n",
    "    print(row)"
   ]
  },
  {
   "cell_type": "markdown",
   "metadata": {},
   "source": [
    "```bash\n",
    "$ sort -n -k 3 hightemp.txt\n",
    "```"
   ]
  },
  {
   "cell_type": "markdown",
   "metadata": {},
   "source": [
    "## 19. 各行の1コラム目の文字列の出現頻度を求め，出現頻度の高い順に並べる\n",
    "各行の1列目の文字列の出現頻度を求め，その高い順に並べて表示せよ．確認にはcut, uniq, sortコマンドを用いよ．"
   ]
  },
  {
   "cell_type": "code",
   "execution_count": 25,
   "metadata": {},
   "outputs": [
    {
     "name": "stdout",
     "output_type": "stream",
     "text": [
      "埼玉県\n",
      "山形県\n",
      "山梨県\n",
      "群馬県\n",
      "岐阜県\n",
      "静岡県\n",
      "愛知県\n",
      "千葉県\n",
      "高知県\n",
      "和歌山県\n",
      "愛媛県\n",
      "大阪府\n"
     ]
    }
   ],
   "source": [
    "dict = {}\n",
    "with open('hightemp.txt') as f:\n",
    "    for l in f:\n",
    "        str = l.split()[0]\n",
    "        if str in dict:\n",
    "            dict[str] += 1\n",
    "        else:\n",
    "            dict[str] = 1\n",
    "\n",
    "for k, v in sorted(dict.items(), key=lambda x: -x[1]):\n",
    "    print(k)"
   ]
  },
  {
   "cell_type": "markdown",
   "metadata": {},
   "source": [
    "```bash\n",
    "$ cut -f 1 hightemp.txt | sort | uniq -c | sort -r\n",
    "```"
   ]
  }
 ],
 "metadata": {
  "kernelspec": {
   "display_name": "Python 3",
   "language": "python",
   "name": "python3"
  },
  "language_info": {
   "codemirror_mode": {
    "name": "ipython",
    "version": 3
   },
   "file_extension": ".py",
   "mimetype": "text/x-python",
   "name": "python",
   "nbconvert_exporter": "python",
   "pygments_lexer": "ipython3",
   "version": "3.7.0"
  }
 },
 "nbformat": 4,
 "nbformat_minor": 2
}
