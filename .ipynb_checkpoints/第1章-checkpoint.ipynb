{
 "cells": [
  {
   "cell_type": "markdown",
   "metadata": {},
   "source": [
    "# 第1章: 準備運動"
   ]
  },
  {
   "cell_type": "markdown",
   "metadata": {},
   "source": [
    "## 00. 文字列の逆順\n",
    "文字列\"stressed\"の文字を逆に（末尾から先頭に向かって）並べた文字列を得よ．"
   ]
  },
  {
   "cell_type": "code",
   "execution_count": 2,
   "metadata": {},
   "outputs": [
    {
     "name": "stdout",
     "output_type": "stream",
     "text": [
      "desserts\n"
     ]
    }
   ],
   "source": [
    "str = 'stressed'[::-1]\n",
    "print(str)"
   ]
  },
  {
   "cell_type": "markdown",
   "metadata": {},
   "source": [
    "## 01. 「パタトクカシーー」\n",
    "「パタトクカシーー」という文字列の1,3,5,7文字目を取り出して連結した文字列を得よ．"
   ]
  },
  {
   "cell_type": "code",
   "execution_count": 3,
   "metadata": {},
   "outputs": [
    {
     "name": "stdout",
     "output_type": "stream",
     "text": [
      "パトカー\n"
     ]
    }
   ],
   "source": [
    "str = 'パタトクカシーー'[::2]\n",
    "print(str)"
   ]
  },
  {
   "cell_type": "markdown",
   "metadata": {},
   "source": [
    "## 02. 「パトカー」＋「タクシー」＝「パタトクカシーー」\n",
    "「パトカー」＋「タクシー」の文字を先頭から交互に連結して文字列「パタトクカシーー」を得よ．"
   ]
  },
  {
   "cell_type": "code",
   "execution_count": 16,
   "metadata": {},
   "outputs": [
    {
     "name": "stdout",
     "output_type": "stream",
     "text": [
      "パタトクカシーー\n"
     ]
    }
   ],
   "source": [
    "p = 'パトカー'\n",
    "t = 'タクシー'\n",
    "str = ''\n",
    "for (a,b) in zip(p,t):\n",
    "    str += a+b\n",
    "print(str)"
   ]
  },
  {
   "cell_type": "markdown",
   "metadata": {},
   "source": [
    "## 03. 円周率\n",
    "\"Now I need a drink, alcoholic of course, after the heavy lectures involving quantum mechanics.\"という文を単語に分解し，各単語の（アルファベットの）文字数を先頭から出現順に並べたリストを作成せよ．"
   ]
  },
  {
   "cell_type": "code",
   "execution_count": 18,
   "metadata": {
    "scrolled": true
   },
   "outputs": [
    {
     "name": "stdout",
     "output_type": "stream",
     "text": [
      "[3, 1, 4, 1, 5, 9, 2, 6, 5, 3, 5, 8, 9, 7, 9]\n"
     ]
    }
   ],
   "source": [
    "sent = 'Now I need a drink, alcoholic of course, after the heavy lectures involving quantum mechanics.'\n",
    "sent = sent.replace('.','').replace(',','')\n",
    "l = []\n",
    "for s in sent.split():\n",
    "    l.append(len(s))\n",
    "print(l)"
   ]
  },
  {
   "cell_type": "markdown",
   "metadata": {},
   "source": [
    "## 04. 元素記号\n",
    "\"Hi He Lied Because Boron Could Not Oxidize Fluorine. New Nations Might Also Sign Peace Security Clause. Arthur King Can.\"という文を単語に分解し，1, 5, 6, 7, 8, 9, 15, 16, 19番目の単語は先頭の1文字，それ以外の単語は先頭に2文字を取り出し，取り出した文字列から単語の位置（先頭から何番目の単語か）への連想配列（辞書型もしくはマップ型）を作成せよ．"
   ]
  },
  {
   "cell_type": "code",
   "execution_count": 21,
   "metadata": {},
   "outputs": [
    {
     "name": "stdout",
     "output_type": "stream",
     "text": [
      "{1: 'H', 2: 'He', 3: 'Li', 4: 'Be', 5: 'B', 6: 'C', 7: 'N', 8: 'O', 9: 'F', 10: 'Ne', 11: 'Na', 12: 'Mi', 13: 'Al', 14: 'Si', 15: 'P', 16: 'S', 17: 'Cl', 18: 'Ar', 19: 'K', 20: 'Ca'}\n"
     ]
    }
   ],
   "source": [
    "sent = 'Hi He Lied Because Boron Could Not Oxidize Fluorine. New Nations Might Also Sign Peace Security Clause. Arthur King Can.'\n",
    "sent = sent.replace('.','').replace(',','')\n",
    "d = {}\n",
    "for i, s in enumerate(sent.split()):\n",
    "    if i in [0,4,5,6,7,8,14,15,18]:\n",
    "        d[i+1] = s[:1]\n",
    "    else:\n",
    "        d[i+1] = s[:2]\n",
    "print(d)"
   ]
  },
  {
   "cell_type": "markdown",
   "metadata": {},
   "source": [
    "## 05. n-gram\n",
    "与えられたシーケンス（文字列やリストなど）からn-gramを作る関数を作成せよ．この関数を用い，\"I am an NLPer\"という文から単語bi-gram，文字bi-gramを得よ．"
   ]
  },
  {
   "cell_type": "code",
   "execution_count": 34,
   "metadata": {},
   "outputs": [
    {
     "name": "stdout",
     "output_type": "stream",
     "text": [
      "[['I', 'am'], ['am', 'an'], ['an', 'NLPer']]\n",
      "['I ', ' a', 'am', 'm ', ' a', 'an', 'n ', ' N', 'NL', 'LP', 'Pe', 'er']\n"
     ]
    }
   ],
   "source": [
    "def ngram(str,n):\n",
    "    l = []\n",
    "    for i in range(len(str)-n+1):\n",
    "        l.append(str[i:i+n])\n",
    "    return l\n",
    "\n",
    "str = 'I am an NLPer'\n",
    "# word bi-gram\n",
    "print(ngram(str.split(),2))\n",
    "\n",
    "print()\n",
    "\n",
    "# string bi-gram\n",
    "print(ngram(str,2))"
   ]
  },
  {
   "cell_type": "markdown",
   "metadata": {},
   "source": [
    "## 06. 集合\n",
    "\"paraparaparadise\"と\"paragraph\"に含まれる文字bi-gramの集合を，それぞれ, XとYとして求め，XとYの和集合，積集合，差集合を求めよ．さらに，'se'というbi-gramがXおよびYに含まれるかどうかを調べよ．"
   ]
  },
  {
   "cell_type": "code",
   "execution_count": 35,
   "metadata": {},
   "outputs": [
    {
     "name": "stdout",
     "output_type": "stream",
     "text": [
      "{'ag', 'se', 'ra', 'di', 'gr', 'pa', 'ar', 'ph', 'is', 'ad', 'ap'}\n",
      "{'ag', 'se', 'ra', 'di', 'gr', 'pa', 'ar', 'ph', 'is', 'ad', 'ap'}\n",
      "\n",
      "{'ra', 'pa', 'ar', 'ap'}\n",
      "{'ra', 'pa', 'ar', 'ap'}\n",
      "\n",
      "{'ad', 'di', 'se', 'is'}\n",
      "{'ad', 'di', 'se', 'is'}\n",
      "\n",
      "True\n",
      "False\n"
     ]
    }
   ],
   "source": [
    "x = set(ngram('paraparaparadise',2))\n",
    "y = set(ngram('paragraph',2))\n",
    "\n",
    "\"\"\" 和集合 \"\"\"\n",
    "print(x | y)\n",
    "print(x.union(y))\n",
    "\n",
    "print()\n",
    "\n",
    "\"\"\" 積集合 \"\"\"\n",
    "print(x & y)\n",
    "print(x.intersection(y))\n",
    "\n",
    "print()\n",
    "\n",
    "\"\"\" 差集合 \"\"\"\n",
    "print(x - y)\n",
    "print(x.difference(y))\n",
    "\n",
    "print()\n",
    "\n",
    "se = {'se'}\n",
    "print(se.issubset(x))\n",
    "print(se <= y)"
   ]
  },
  {
   "cell_type": "markdown",
   "metadata": {},
   "source": [
    "## 07. テンプレートによる文生成\n",
    "引数x, y, zを受け取り「x時のyはz」という文字列を返す関数を実装せよ．さらに，x=12, y=\"気温\", z=22.4として，実行結果を確認せよ．"
   ]
  },
  {
   "cell_type": "code",
   "execution_count": 36,
   "metadata": {},
   "outputs": [
    {
     "name": "stdout",
     "output_type": "stream",
     "text": [
      "12時の気温は22.4\n"
     ]
    }
   ],
   "source": [
    "def make(x,y,z):\n",
    "    return '{}時の{}は{}'.format(x,y,z)\n",
    "\n",
    "print(make(12,'気温',22.4))"
   ]
  },
  {
   "cell_type": "markdown",
   "metadata": {},
   "source": [
    "## 08. 暗号文\n",
    "与えられた文字列の各文字を，以下の仕様で変換する関数cipherを実装せよ．\n",
    "\n",
    "- 英小文字ならば(219 - 文字コード)の文字に置換\n",
    "- その他の文字はそのまま出力\n",
    "\n",
    "この関数を用い，英語のメッセージを暗号化・復号化せよ．"
   ]
  },
  {
   "cell_type": "code",
   "execution_count": 44,
   "metadata": {},
   "outputs": [
    {
     "name": "stdout",
     "output_type": "stream",
     "text": [
      "Hvool Wliow!\n",
      "Hello World!\n"
     ]
    }
   ],
   "source": [
    "def cipher(str):\n",
    "    ciph = ''\n",
    "    for i in range(len(str)):\n",
    "        ciph += chr(219-ord(str[i])) if str[i].islower() else str[i]\n",
    "    return ciph\n",
    "\n",
    "str = 'Hello World!'\n",
    "print(cipher(str))\n",
    "print(cipher(cipher(str)))"
   ]
  },
  {
   "cell_type": "markdown",
   "metadata": {},
   "source": [
    "## 09. Typoglycemia\n",
    "スペースで区切られた単語列に対して，各単語の先頭と末尾の文字は残し，それ以外の文字の順序をランダムに並び替えるプログラムを作成せよ．ただし，長さが４以下の単語は並び替えないこととする．適当な英語の文（例えば\"I couldn't believe that I could actually understand what I was reading : the phenomenal power of the human mind .\"）を与え，その実行結果を確認せよ．"
   ]
  },
  {
   "cell_type": "code",
   "execution_count": 62,
   "metadata": {},
   "outputs": [
    {
     "name": "stdout",
     "output_type": "stream",
     "text": [
      "I cndou'lt belivee that I cuold alcatluy unaednsrtd what I was reiandg : the panoemenhl power of the huamn mind .\n"
     ]
    }
   ],
   "source": [
    "import random\n",
    "\n",
    "def typoglycemia(str):\n",
    "    str = str.split()\n",
    "    ret = []\n",
    "    for s in str:\n",
    "        l = len(s)\n",
    "        if l > 4:\n",
    "            s = s[0]+''.join(random.sample(s[1:l-1], l-2))+s[l-1]\n",
    "        ret.append(s)\n",
    "    return ' '.join(ret)\n",
    "\n",
    "str = \"I couldn't believe that I could actually understand what I was reading : the phenomenal power of the human mind .\"\n",
    "print(typoglycemia(str))"
   ]
  }
 ],
 "metadata": {
  "kernelspec": {
   "display_name": "Python 3",
   "language": "python",
   "name": "python3"
  },
  "language_info": {
   "codemirror_mode": {
    "name": "ipython",
    "version": 3
   },
   "file_extension": ".py",
   "mimetype": "text/x-python",
   "name": "python",
   "nbconvert_exporter": "python",
   "pygments_lexer": "ipython3",
   "version": "3.7.0"
  }
 },
 "nbformat": 4,
 "nbformat_minor": 2
}
